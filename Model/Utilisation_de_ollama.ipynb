{
 "cells": [
  {
   "cell_type": "code",
   "execution_count": 3,
   "metadata": {},
   "outputs": [],
   "source": [
    "import csv\n",
    "from langchain_ollama import OllamaLLM\n",
    "from langchain.prompts import PromptTemplate\n",
    "import tkinter as tk\n",
    "from tkinter import scrolledtext\n",
    "from langchain_core.prompts import PromptTemplate\n",
    "import pandas as pd"
   ]
  },
  {
   "cell_type": "code",
   "execution_count": null,
   "metadata": {},
   "outputs": [],
   "source": [
    "llm = OllamaLLM(model=\"llama3.2:3b\")\n",
    "\n",
    "chat_history = []\n",
    "\n",
    "def get_ai_response():\n",
    "    \"\"\"Récupère la réponse du modèle et garde l'historique.\"\"\"\n",
    "    user_input = entry.get().strip()\n",
    "    if not user_input:\n",
    "        output_text.insert(tk.END, \"Veuillez entrer un message.\\n\")\n",
    "        return\n",
    "\n",
    "    chat_history.append({\"role\": \"user\", \"content\": user_input})\n",
    "\n",
    "    formatted_prompt = \"\\n\".join([f\"{msg['role']}: {msg['content']}\" for msg in chat_history])\n",
    "\n",
    "    response = llm.invoke(formatted_prompt)\n",
    "\n",
    "    chat_history.append({\"role\": \"assistant\", \"content\": response})\n",
    "\n",
    "    output_text.insert(tk.END, f\"Utilisateur : {user_input}\\nIA : {response}\\n\\n\")\n",
    "\n",
    "    entry.delete(0, tk.END)\n"
   ]
  },
  {
   "cell_type": "code",
   "execution_count": null,
   "metadata": {},
   "outputs": [],
   "source": [
    "root = tk.Tk()\n",
    "root.title(\"Chat avec Llama3\")\n",
    "root.geometry(\"600x400\")\n",
    "\n",
    "entry = tk.Entry(root, width=60)\n",
    "entry.pack(pady=10)\n",
    "\n",
    "send_button = tk.Button(root, text=\"Envoyer\", command=get_ai_response)\n",
    "send_button.pack()\n",
    "\n",
    "output_text = scrolledtext.ScrolledText(root, wrap=tk.WORD, width=70, height=15)\n",
    "output_text.pack(pady=10)\n",
    "\n",
    "root.mainloop()\n"
   ]
  },
  {
   "cell_type": "code",
   "execution_count": null,
   "metadata": {},
   "outputs": [],
   "source": []
  },
  {
   "cell_type": "code",
   "execution_count": null,
   "metadata": {},
   "outputs": [],
   "source": []
  },
  {
   "cell_type": "code",
   "execution_count": null,
   "metadata": {},
   "outputs": [],
   "source": []
  }
 ],
 "metadata": {
  "kernelspec": {
   "display_name": "env_rag",
   "language": "python",
   "name": "python3"
  },
  "language_info": {
   "codemirror_mode": {
    "name": "ipython",
    "version": 3
   },
   "file_extension": ".py",
   "mimetype": "text/x-python",
   "name": "python",
   "nbconvert_exporter": "python",
   "pygments_lexer": "ipython3",
   "version": "3.9.9"
  }
 },
 "nbformat": 4,
 "nbformat_minor": 2
}
